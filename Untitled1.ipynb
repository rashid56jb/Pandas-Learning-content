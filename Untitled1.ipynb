{
  "nbformat": 4,
  "nbformat_minor": 0,
  "metadata": {
    "colab": {
      "provenance": [],
      "authorship_tag": "ABX9TyP/joBHoZniWUh8a1KQ/KGi",
      "include_colab_link": true
    },
    "kernelspec": {
      "name": "python3",
      "display_name": "Python 3"
    },
    "language_info": {
      "name": "python"
    }
  },
  "cells": [
    {
      "cell_type": "markdown",
      "metadata": {
        "id": "view-in-github",
        "colab_type": "text"
      },
      "source": [
        "<a href=\"https://colab.research.google.com/github/rashid56jb/Pandas-Learning-content/blob/main/Untitled1.ipynb\" target=\"_parent\"><img src=\"https://colab.research.google.com/assets/colab-badge.svg\" alt=\"Open In Colab\"/></a>"
      ]
    },
    {
      "cell_type": "markdown",
      "source": [
        "\n",
        "# Series"
      ],
      "metadata": {
        "id": "muPSADSQLFmY"
      }
    },
    {
      "cell_type": "code",
      "source": [
        "import pandas as pd\n",
        "\n",
        "x=[1,2,3,4,5,6]\n",
        "var=pd.Series(x)\n",
        "print(var)"
      ],
      "metadata": {
        "colab": {
          "base_uri": "https://localhost:8080/"
        },
        "id": "8kIJr68ALXB5",
        "outputId": "83df00bc-008f-48e1-ae7d-c5061b498cfc"
      },
      "execution_count": 3,
      "outputs": [
        {
          "output_type": "stream",
          "name": "stdout",
          "text": [
            "0    1\n",
            "1    2\n",
            "2    3\n",
            "3    4\n",
            "4    5\n",
            "5    6\n",
            "dtype: int64\n"
          ]
        }
      ]
    },
    {
      "cell_type": "code",
      "execution_count": null,
      "metadata": {
        "id": "4yg4qCoiK5nn"
      },
      "outputs": [],
      "source": []
    },
    {
      "cell_type": "code",
      "source": [
        "y=[1,2,3,4,]\n",
        "var2=pd.Series(y,index=['a','b','c','d'],dtype=\"float\")\n",
        "\n",
        "print(var2)\n",
        "print(type(var2))\n",
        "print(var2[2])\n",
        "\n"
      ],
      "metadata": {
        "colab": {
          "base_uri": "https://localhost:8080/"
        },
        "id": "ayT1LhT2MkxL",
        "outputId": "dd2bb9ac-ca91-4380-f811-d0ba0767c93a"
      },
      "execution_count": 10,
      "outputs": [
        {
          "output_type": "stream",
          "name": "stdout",
          "text": [
            "a    1.0\n",
            "b    2.0\n",
            "c    3.0\n",
            "d    4.0\n",
            "dtype: float64\n",
            "<class 'pandas.core.series.Series'>\n",
            "3.0\n"
          ]
        },
        {
          "output_type": "stream",
          "name": "stderr",
          "text": [
            "<ipython-input-10-385454a9224c>:6: FutureWarning: Series.__getitem__ treating keys as positions is deprecated. In a future version, integer keys will always be treated as labels (consistent with DataFrame behavior). To access a value by position, use `ser.iloc[pos]`\n",
            "  print(var2[2])\n"
          ]
        }
      ]
    },
    {
      "cell_type": "code",
      "source": [
        "from ast import Name\n",
        "dic={\"name\":['python','c++','c','java',],\"por\":[13,14,15,16],\"rank\":[1,3,5,7]}\n",
        "var3=pd.Series(dic)\n",
        "print(var3)"
      ],
      "metadata": {
        "colab": {
          "base_uri": "https://localhost:8080/"
        },
        "id": "U69TLf0SR7yQ",
        "outputId": "f9b8bd73-5089-4436-f277-e168aa06fe17"
      },
      "execution_count": 11,
      "outputs": [
        {
          "output_type": "stream",
          "name": "stdout",
          "text": [
            "name    [python, c++, c, java]\n",
            "por           [13, 14, 15, 16]\n",
            "rank              [1, 3, 5, 7]\n",
            "dtype: object\n"
          ]
        }
      ]
    }
  ]
}